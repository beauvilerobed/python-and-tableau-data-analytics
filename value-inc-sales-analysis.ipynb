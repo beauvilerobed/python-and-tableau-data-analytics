{
 "cells": [
  {
   "attachments": {},
   "cell_type": "markdown",
   "metadata": {},
   "source": [
    "# Value Inc. Sales Analysis\n",
    "\n",
    "Value Inc is a retail store that sells household items all over the world by bulk.\n",
    "\n",
    "The Sales Manager has no sales reporting but he has a brief idea of current sales.\n",
    "He wants a dashboard on the monthly cost, profit and top selling products and says the data is currently stored in an excel sheet.\n",
    "\n",
    "Date File: (transactions.csv) – 153 MB file\n",
    "https://drive.google.com/file/d/1i6MQZmXUuqyqGjSGbsPrNKV-eJPAhxU/view?usp=sharing\n",
    "\n",
    "Value Inc Seasons:\n",
    "https://finch-groundhog-9245.squarespace.com/s/value_inc_seasons.csv\n",
    "\n",
    "Logo: (Value Inc. Logo.png)\n",
    "https://finch-groundhog-9245.squarespace.com/s/Value-Inc-Logo.png"
   ]
  },
  {
   "cell_type": "code",
   "execution_count": 1,
   "metadata": {},
   "outputs": [],
   "source": [
    "import pandas as pd\n",
    "import numpy as np"
   ]
  },
  {
   "cell_type": "code",
   "execution_count": 2,
   "metadata": {},
   "outputs": [],
   "source": [
    "data = pd.read_csv(\"data/transaction2.csv\", sep=\";\")\n",
    "seasons = pd.read_csv(\"data/value_inc_seasons.csv\", sep=\";\")"
   ]
  },
  {
   "cell_type": "code",
   "execution_count": 3,
   "metadata": {},
   "outputs": [
    {
     "name": "stdout",
     "output_type": "stream",
     "text": [
      "<class 'pandas.core.frame.DataFrame'>\n",
      "RangeIndex: 1047588 entries, 0 to 1047587\n",
      "Data columns (total 13 columns):\n",
      " #   Column                  Non-Null Count    Dtype  \n",
      "---  ------                  --------------    -----  \n",
      " 0   UserId                  1047588 non-null  int64  \n",
      " 1   TransactionId           1047588 non-null  int64  \n",
      " 2   Year                    1047588 non-null  int64  \n",
      " 3   Month                   1047588 non-null  object \n",
      " 4   Day                     1047588 non-null  int64  \n",
      " 5   Time                    1047588 non-null  object \n",
      " 6   ItemCode                1047588 non-null  int64  \n",
      " 7   ItemDescription         1044797 non-null  object \n",
      " 8   NumberOfItemsPurchased  1047588 non-null  int64  \n",
      " 9   CostPerItem             1047588 non-null  float64\n",
      " 10  SellingPricePerItem     1047588 non-null  float64\n",
      " 11  Country                 1047588 non-null  object \n",
      " 12  ClientKeywords          1047588 non-null  object \n",
      "dtypes: float64(2), int64(6), object(5)\n",
      "memory usage: 103.9+ MB\n"
     ]
    }
   ],
   "source": [
    "data.info()"
   ]
  },
  {
   "cell_type": "code",
   "execution_count": 4,
   "metadata": {},
   "outputs": [
    {
     "name": "stdout",
     "output_type": "stream",
     "text": [
      "<class 'pandas.core.frame.DataFrame'>\n",
      "RangeIndex: 12 entries, 0 to 11\n",
      "Data columns (total 2 columns):\n",
      " #   Column  Non-Null Count  Dtype \n",
      "---  ------  --------------  ----- \n",
      " 0   Month   12 non-null     object\n",
      " 1   Season  12 non-null     object\n",
      "dtypes: object(2)\n",
      "memory usage: 320.0+ bytes\n"
     ]
    }
   ],
   "source": [
    "seasons.info()"
   ]
  },
  {
   "cell_type": "code",
   "execution_count": 5,
   "metadata": {},
   "outputs": [
    {
     "data": {
      "text/html": [
       "<div>\n",
       "<style scoped>\n",
       "    .dataframe tbody tr th:only-of-type {\n",
       "        vertical-align: middle;\n",
       "    }\n",
       "\n",
       "    .dataframe tbody tr th {\n",
       "        vertical-align: top;\n",
       "    }\n",
       "\n",
       "    .dataframe thead th {\n",
       "        text-align: right;\n",
       "    }\n",
       "</style>\n",
       "<table border=\"1\" class=\"dataframe\">\n",
       "  <thead>\n",
       "    <tr style=\"text-align: right;\">\n",
       "      <th></th>\n",
       "      <th>Month</th>\n",
       "      <th>Season</th>\n",
       "    </tr>\n",
       "  </thead>\n",
       "  <tbody>\n",
       "    <tr>\n",
       "      <th>0</th>\n",
       "      <td>Jan</td>\n",
       "      <td>High</td>\n",
       "    </tr>\n",
       "    <tr>\n",
       "      <th>1</th>\n",
       "      <td>Feb</td>\n",
       "      <td>Mid</td>\n",
       "    </tr>\n",
       "    <tr>\n",
       "      <th>2</th>\n",
       "      <td>Mar</td>\n",
       "      <td>Low</td>\n",
       "    </tr>\n",
       "    <tr>\n",
       "      <th>3</th>\n",
       "      <td>Apr</td>\n",
       "      <td>Low</td>\n",
       "    </tr>\n",
       "    <tr>\n",
       "      <th>4</th>\n",
       "      <td>May</td>\n",
       "      <td>Low</td>\n",
       "    </tr>\n",
       "  </tbody>\n",
       "</table>\n",
       "</div>"
      ],
      "text/plain": [
       "  Month Season\n",
       "0   Jan   High\n",
       "1   Feb    Mid\n",
       "2   Mar    Low\n",
       "3   Apr    Low\n",
       "4   May    Low"
      ]
     },
     "execution_count": 5,
     "metadata": {},
     "output_type": "execute_result"
    }
   ],
   "source": [
    "seasons.head()"
   ]
  },
  {
   "cell_type": "code",
   "execution_count": 6,
   "metadata": {},
   "outputs": [],
   "source": [
    "df = data.merge(seasons, on='Month')"
   ]
  },
  {
   "cell_type": "code",
   "execution_count": 7,
   "metadata": {},
   "outputs": [
    {
     "name": "stdout",
     "output_type": "stream",
     "text": [
      "<class 'pandas.core.frame.DataFrame'>\n",
      "Int64Index: 1047588 entries, 0 to 1047587\n",
      "Data columns (total 14 columns):\n",
      " #   Column                  Non-Null Count    Dtype  \n",
      "---  ------                  --------------    -----  \n",
      " 0   UserId                  1047588 non-null  int64  \n",
      " 1   TransactionId           1047588 non-null  int64  \n",
      " 2   Year                    1047588 non-null  int64  \n",
      " 3   Month                   1047588 non-null  object \n",
      " 4   Day                     1047588 non-null  int64  \n",
      " 5   Time                    1047588 non-null  object \n",
      " 6   ItemCode                1047588 non-null  int64  \n",
      " 7   ItemDescription         1044797 non-null  object \n",
      " 8   NumberOfItemsPurchased  1047588 non-null  int64  \n",
      " 9   CostPerItem             1047588 non-null  float64\n",
      " 10  SellingPricePerItem     1047588 non-null  float64\n",
      " 11  Country                 1047588 non-null  object \n",
      " 12  ClientKeywords          1047588 non-null  object \n",
      " 13  Season                  1047588 non-null  object \n",
      "dtypes: float64(2), int64(6), object(6)\n",
      "memory usage: 119.9+ MB\n"
     ]
    }
   ],
   "source": [
    "df.info()"
   ]
  },
  {
   "cell_type": "code",
   "execution_count": 8,
   "metadata": {},
   "outputs": [
    {
     "data": {
      "text/html": [
       "<div>\n",
       "<style scoped>\n",
       "    .dataframe tbody tr th:only-of-type {\n",
       "        vertical-align: middle;\n",
       "    }\n",
       "\n",
       "    .dataframe tbody tr th {\n",
       "        vertical-align: top;\n",
       "    }\n",
       "\n",
       "    .dataframe thead th {\n",
       "        text-align: right;\n",
       "    }\n",
       "</style>\n",
       "<table border=\"1\" class=\"dataframe\">\n",
       "  <thead>\n",
       "    <tr style=\"text-align: right;\">\n",
       "      <th></th>\n",
       "      <th>UserId</th>\n",
       "      <th>TransactionId</th>\n",
       "      <th>Year</th>\n",
       "      <th>Month</th>\n",
       "      <th>Day</th>\n",
       "      <th>Time</th>\n",
       "      <th>ItemCode</th>\n",
       "      <th>ItemDescription</th>\n",
       "      <th>NumberOfItemsPurchased</th>\n",
       "      <th>CostPerItem</th>\n",
       "      <th>SellingPricePerItem</th>\n",
       "      <th>Country</th>\n",
       "      <th>ClientKeywords</th>\n",
       "      <th>Season</th>\n",
       "    </tr>\n",
       "  </thead>\n",
       "  <tbody>\n",
       "    <tr>\n",
       "      <th>0</th>\n",
       "      <td>278166</td>\n",
       "      <td>6355745</td>\n",
       "      <td>2019</td>\n",
       "      <td>Feb</td>\n",
       "      <td>2</td>\n",
       "      <td>12:50:00</td>\n",
       "      <td>465549</td>\n",
       "      <td>FAMILY ALBUM WHITE PICTURE FRAME</td>\n",
       "      <td>6</td>\n",
       "      <td>11.73</td>\n",
       "      <td>21.11</td>\n",
       "      <td>United Kingdom</td>\n",
       "      <td>['Senior', 'Solo Entrepreneur', '2-5 Year Clie...</td>\n",
       "      <td>Mid</td>\n",
       "    </tr>\n",
       "    <tr>\n",
       "      <th>1</th>\n",
       "      <td>267099</td>\n",
       "      <td>6385599</td>\n",
       "      <td>2019</td>\n",
       "      <td>Feb</td>\n",
       "      <td>15</td>\n",
       "      <td>09:45:00</td>\n",
       "      <td>490728</td>\n",
       "      <td>SET 12 COLOUR PENCILS DOLLY GIRL</td>\n",
       "      <td>72</td>\n",
       "      <td>0.90</td>\n",
       "      <td>1.62</td>\n",
       "      <td>France</td>\n",
       "      <td>['Middle Age', 'Corporation', '2-5 Year Client']</td>\n",
       "      <td>Mid</td>\n",
       "    </tr>\n",
       "    <tr>\n",
       "      <th>2</th>\n",
       "      <td>328440</td>\n",
       "      <td>6387425</td>\n",
       "      <td>2019</td>\n",
       "      <td>Feb</td>\n",
       "      <td>16</td>\n",
       "      <td>10:35:00</td>\n",
       "      <td>494802</td>\n",
       "      <td>SET OF 6 RIBBONS PERFECTLY PRETTY</td>\n",
       "      <td>36</td>\n",
       "      <td>3.99</td>\n",
       "      <td>5.59</td>\n",
       "      <td>United Kingdom</td>\n",
       "      <td>['Adult', 'Small Business', 'New Client']</td>\n",
       "      <td>Mid</td>\n",
       "    </tr>\n",
       "    <tr>\n",
       "      <th>3</th>\n",
       "      <td>364791</td>\n",
       "      <td>6358242</td>\n",
       "      <td>2019</td>\n",
       "      <td>Feb</td>\n",
       "      <td>3</td>\n",
       "      <td>09:25:00</td>\n",
       "      <td>486276</td>\n",
       "      <td>SET OF 5 MINI GROCERY MAGNETS</td>\n",
       "      <td>3</td>\n",
       "      <td>2.88</td>\n",
       "      <td>3.74</td>\n",
       "      <td>United Kingdom</td>\n",
       "      <td>['Young Adult', 'Small Business', 'Loyal Client']</td>\n",
       "      <td>Mid</td>\n",
       "    </tr>\n",
       "    <tr>\n",
       "      <th>4</th>\n",
       "      <td>-1</td>\n",
       "      <td>6388019</td>\n",
       "      <td>2019</td>\n",
       "      <td>Feb</td>\n",
       "      <td>16</td>\n",
       "      <td>13:24:00</td>\n",
       "      <td>490329</td>\n",
       "      <td>ROLL WRAP VINTAGE CHRISTMAS</td>\n",
       "      <td>30</td>\n",
       "      <td>3.40</td>\n",
       "      <td>4.42</td>\n",
       "      <td>United Kingdom</td>\n",
       "      <td>['Middle Age', 'Solo Entrepreneur', '2-5 Year ...</td>\n",
       "      <td>Mid</td>\n",
       "    </tr>\n",
       "  </tbody>\n",
       "</table>\n",
       "</div>"
      ],
      "text/plain": [
       "   UserId  TransactionId  Year Month  Day      Time  ItemCode  \\\n",
       "0  278166        6355745  2019   Feb    2  12:50:00    465549   \n",
       "1  267099        6385599  2019   Feb   15  09:45:00    490728   \n",
       "2  328440        6387425  2019   Feb   16  10:35:00    494802   \n",
       "3  364791        6358242  2019   Feb    3  09:25:00    486276   \n",
       "4      -1        6388019  2019   Feb   16  13:24:00    490329   \n",
       "\n",
       "                       ItemDescription  NumberOfItemsPurchased  CostPerItem  \\\n",
       "0     FAMILY ALBUM WHITE PICTURE FRAME                       6        11.73   \n",
       "1    SET 12 COLOUR PENCILS DOLLY GIRL                       72         0.90   \n",
       "2  SET OF 6 RIBBONS PERFECTLY PRETTY                        36         3.99   \n",
       "3        SET OF 5 MINI GROCERY MAGNETS                       3         2.88   \n",
       "4          ROLL WRAP VINTAGE CHRISTMAS                      30         3.40   \n",
       "\n",
       "   SellingPricePerItem         Country  \\\n",
       "0                21.11  United Kingdom   \n",
       "1                 1.62          France   \n",
       "2                 5.59  United Kingdom   \n",
       "3                 3.74  United Kingdom   \n",
       "4                 4.42  United Kingdom   \n",
       "\n",
       "                                      ClientKeywords Season  \n",
       "0  ['Senior', 'Solo Entrepreneur', '2-5 Year Clie...    Mid  \n",
       "1   ['Middle Age', 'Corporation', '2-5 Year Client']    Mid  \n",
       "2          ['Adult', 'Small Business', 'New Client']    Mid  \n",
       "3  ['Young Adult', 'Small Business', 'Loyal Client']    Mid  \n",
       "4  ['Middle Age', 'Solo Entrepreneur', '2-5 Year ...    Mid  "
      ]
     },
     "execution_count": 8,
     "metadata": {},
     "output_type": "execute_result"
    }
   ],
   "source": [
    "df.head()"
   ]
  },
  {
   "attachments": {},
   "cell_type": "markdown",
   "metadata": {},
   "source": [
    "### Calculate Cost, Profit, Sales, and Markup"
   ]
  },
  {
   "cell_type": "code",
   "execution_count": 9,
   "metadata": {},
   "outputs": [],
   "source": [
    "df[\"ProfitPerItem\"] = df[\"SellingPricePerItem\"]-df[\"CostPerItem\"]\n",
    "df[\"ProfitPerTransaction\"] = df[\"NumberOfItemsPurchased\"]*df[\"ProfitPerItem\"]\n",
    "df[\"CostPerTransaction\"] = df[\"NumberOfItemsPurchased\"]*df[\"CostPerItem\"]\n",
    "df[\"SalesPerTransaction\"] = df[\"NumberOfItemsPurchased\"]*df[\"SellingPricePerItem\"]\n",
    "df[\"Markup\"] = df[\"ProfitPerTransaction\"]/df[\"CostPerTransaction\"]"
   ]
  },
  {
   "cell_type": "code",
   "execution_count": 10,
   "metadata": {},
   "outputs": [],
   "source": [
    "df['MarkupRounded'] = round(df['Markup'], 2)"
   ]
  },
  {
   "cell_type": "code",
   "execution_count": 11,
   "metadata": {},
   "outputs": [
    {
     "data": {
      "text/html": [
       "<div>\n",
       "<style scoped>\n",
       "    .dataframe tbody tr th:only-of-type {\n",
       "        vertical-align: middle;\n",
       "    }\n",
       "\n",
       "    .dataframe tbody tr th {\n",
       "        vertical-align: top;\n",
       "    }\n",
       "\n",
       "    .dataframe thead th {\n",
       "        text-align: right;\n",
       "    }\n",
       "</style>\n",
       "<table border=\"1\" class=\"dataframe\">\n",
       "  <thead>\n",
       "    <tr style=\"text-align: right;\">\n",
       "      <th></th>\n",
       "      <th>ProfitPerItem</th>\n",
       "      <th>ProfitPerTransaction</th>\n",
       "      <th>CostPerTransaction</th>\n",
       "      <th>SalesPerTransaction</th>\n",
       "      <th>Markup</th>\n",
       "      <th>MarkupRounded</th>\n",
       "    </tr>\n",
       "  </thead>\n",
       "  <tbody>\n",
       "    <tr>\n",
       "      <th>0</th>\n",
       "      <td>9.38</td>\n",
       "      <td>56.28</td>\n",
       "      <td>70.38</td>\n",
       "      <td>126.66</td>\n",
       "      <td>0.799659</td>\n",
       "      <td>0.8</td>\n",
       "    </tr>\n",
       "    <tr>\n",
       "      <th>1</th>\n",
       "      <td>0.72</td>\n",
       "      <td>51.84</td>\n",
       "      <td>64.80</td>\n",
       "      <td>116.64</td>\n",
       "      <td>0.800000</td>\n",
       "      <td>0.8</td>\n",
       "    </tr>\n",
       "    <tr>\n",
       "      <th>2</th>\n",
       "      <td>1.60</td>\n",
       "      <td>57.60</td>\n",
       "      <td>143.64</td>\n",
       "      <td>201.24</td>\n",
       "      <td>0.401003</td>\n",
       "      <td>0.4</td>\n",
       "    </tr>\n",
       "    <tr>\n",
       "      <th>3</th>\n",
       "      <td>0.86</td>\n",
       "      <td>2.58</td>\n",
       "      <td>8.64</td>\n",
       "      <td>11.22</td>\n",
       "      <td>0.298611</td>\n",
       "      <td>0.3</td>\n",
       "    </tr>\n",
       "    <tr>\n",
       "      <th>4</th>\n",
       "      <td>1.02</td>\n",
       "      <td>30.60</td>\n",
       "      <td>102.00</td>\n",
       "      <td>132.60</td>\n",
       "      <td>0.300000</td>\n",
       "      <td>0.3</td>\n",
       "    </tr>\n",
       "  </tbody>\n",
       "</table>\n",
       "</div>"
      ],
      "text/plain": [
       "   ProfitPerItem  ProfitPerTransaction  CostPerTransaction  \\\n",
       "0           9.38                 56.28               70.38   \n",
       "1           0.72                 51.84               64.80   \n",
       "2           1.60                 57.60              143.64   \n",
       "3           0.86                  2.58                8.64   \n",
       "4           1.02                 30.60              102.00   \n",
       "\n",
       "   SalesPerTransaction    Markup  MarkupRounded  \n",
       "0               126.66  0.799659            0.8  \n",
       "1               116.64  0.800000            0.8  \n",
       "2               201.24  0.401003            0.4  \n",
       "3                11.22  0.298611            0.3  \n",
       "4               132.60  0.300000            0.3  "
      ]
     },
     "execution_count": 11,
     "metadata": {},
     "output_type": "execute_result"
    }
   ],
   "source": [
    "new_cols = [\"ProfitPerItem\" ,\"ProfitPerTransaction\" ,\"CostPerTransaction\" ,\"SalesPerTransaction\" ,\"Markup\", \"MarkupRounded\"]\n",
    "df[new_cols].head()"
   ]
  },
  {
   "cell_type": "code",
   "execution_count": 12,
   "metadata": {},
   "outputs": [
    {
     "data": {
      "text/html": [
       "<div>\n",
       "<style scoped>\n",
       "    .dataframe tbody tr th:only-of-type {\n",
       "        vertical-align: middle;\n",
       "    }\n",
       "\n",
       "    .dataframe tbody tr th {\n",
       "        vertical-align: top;\n",
       "    }\n",
       "\n",
       "    .dataframe thead th {\n",
       "        text-align: right;\n",
       "    }\n",
       "</style>\n",
       "<table border=\"1\" class=\"dataframe\">\n",
       "  <thead>\n",
       "    <tr style=\"text-align: right;\">\n",
       "      <th></th>\n",
       "      <th>ProfitPerItem</th>\n",
       "      <th>ProfitPerTransaction</th>\n",
       "      <th>CostPerTransaction</th>\n",
       "      <th>SalesPerTransaction</th>\n",
       "      <th>Markup</th>\n",
       "      <th>MarkupRounded</th>\n",
       "    </tr>\n",
       "  </thead>\n",
       "  <tbody>\n",
       "    <tr>\n",
       "      <th>1047583</th>\n",
       "      <td>1.60</td>\n",
       "      <td>9.60</td>\n",
       "      <td>13.68</td>\n",
       "      <td>23.28</td>\n",
       "      <td>0.701754</td>\n",
       "      <td>0.7</td>\n",
       "    </tr>\n",
       "    <tr>\n",
       "      <th>1047584</th>\n",
       "      <td>2.32</td>\n",
       "      <td>83.52</td>\n",
       "      <td>104.40</td>\n",
       "      <td>187.92</td>\n",
       "      <td>0.800000</td>\n",
       "      <td>0.8</td>\n",
       "    </tr>\n",
       "    <tr>\n",
       "      <th>1047585</th>\n",
       "      <td>1.64</td>\n",
       "      <td>9.84</td>\n",
       "      <td>32.76</td>\n",
       "      <td>42.60</td>\n",
       "      <td>0.300366</td>\n",
       "      <td>0.3</td>\n",
       "    </tr>\n",
       "    <tr>\n",
       "      <th>1047586</th>\n",
       "      <td>2.40</td>\n",
       "      <td>7.20</td>\n",
       "      <td>24.00</td>\n",
       "      <td>31.20</td>\n",
       "      <td>0.300000</td>\n",
       "      <td>0.3</td>\n",
       "    </tr>\n",
       "    <tr>\n",
       "      <th>1047587</th>\n",
       "      <td>18.36</td>\n",
       "      <td>55.08</td>\n",
       "      <td>68.85</td>\n",
       "      <td>123.93</td>\n",
       "      <td>0.800000</td>\n",
       "      <td>0.8</td>\n",
       "    </tr>\n",
       "  </tbody>\n",
       "</table>\n",
       "</div>"
      ],
      "text/plain": [
       "         ProfitPerItem  ProfitPerTransaction  CostPerTransaction  \\\n",
       "1047583           1.60                  9.60               13.68   \n",
       "1047584           2.32                 83.52              104.40   \n",
       "1047585           1.64                  9.84               32.76   \n",
       "1047586           2.40                  7.20               24.00   \n",
       "1047587          18.36                 55.08               68.85   \n",
       "\n",
       "         SalesPerTransaction    Markup  MarkupRounded  \n",
       "1047583                23.28  0.701754            0.7  \n",
       "1047584               187.92  0.800000            0.8  \n",
       "1047585                42.60  0.300366            0.3  \n",
       "1047586                31.20  0.300000            0.3  \n",
       "1047587               123.93  0.800000            0.8  "
      ]
     },
     "execution_count": 12,
     "metadata": {},
     "output_type": "execute_result"
    }
   ],
   "source": [
    "df[new_cols].tail()"
   ]
  },
  {
   "cell_type": "code",
   "execution_count": 13,
   "metadata": {},
   "outputs": [
    {
     "name": "stdout",
     "output_type": "stream",
     "text": [
      "<class 'pandas.core.frame.DataFrame'>\n",
      "Int64Index: 1047588 entries, 0 to 1047587\n",
      "Data columns (total 6 columns):\n",
      " #   Column                Non-Null Count    Dtype  \n",
      "---  ------                --------------    -----  \n",
      " 0   ProfitPerItem         1047588 non-null  float64\n",
      " 1   ProfitPerTransaction  1047588 non-null  float64\n",
      " 2   CostPerTransaction    1047588 non-null  float64\n",
      " 3   SalesPerTransaction   1047588 non-null  float64\n",
      " 4   Markup                1042743 non-null  float64\n",
      " 5   MarkupRounded         1042743 non-null  float64\n",
      "dtypes: float64(6)\n",
      "memory usage: 55.9 MB\n"
     ]
    }
   ],
   "source": [
    "df[new_cols].info()"
   ]
  },
  {
   "attachments": {},
   "cell_type": "markdown",
   "metadata": {},
   "source": [
    "## Combine Day, Month, Year Fields"
   ]
  },
  {
   "cell_type": "code",
   "execution_count": 14,
   "metadata": {},
   "outputs": [
    {
     "name": "stdout",
     "output_type": "stream",
     "text": [
      "int64\n",
      "object\n",
      "int64\n"
     ]
    }
   ],
   "source": [
    "print(df[\"Day\"].dtype)\n",
    "print(df[\"Month\"].dtype)\n",
    "print(df[\"Year\"].dtype)"
   ]
  },
  {
   "cell_type": "code",
   "execution_count": 15,
   "metadata": {},
   "outputs": [],
   "source": [
    "df['date'] = df[\"Day\"].astype(str)+\"-\"+df[\"Month\"].astype(str)+\"-\"+df[\"Year\"].astype(str)"
   ]
  },
  {
   "attachments": {},
   "cell_type": "markdown",
   "metadata": {},
   "source": [
    "## Split into Columns from ClientKeywords"
   ]
  },
  {
   "cell_type": "code",
   "execution_count": 16,
   "metadata": {},
   "outputs": [],
   "source": [
    "split_cols = df['ClientKeywords'].str.split(',', expand=True)"
   ]
  },
  {
   "cell_type": "code",
   "execution_count": 17,
   "metadata": {},
   "outputs": [
    {
     "data": {
      "text/html": [
       "<div>\n",
       "<style scoped>\n",
       "    .dataframe tbody tr th:only-of-type {\n",
       "        vertical-align: middle;\n",
       "    }\n",
       "\n",
       "    .dataframe tbody tr th {\n",
       "        vertical-align: top;\n",
       "    }\n",
       "\n",
       "    .dataframe thead th {\n",
       "        text-align: right;\n",
       "    }\n",
       "</style>\n",
       "<table border=\"1\" class=\"dataframe\">\n",
       "  <thead>\n",
       "    <tr style=\"text-align: right;\">\n",
       "      <th></th>\n",
       "      <th>0</th>\n",
       "      <th>1</th>\n",
       "      <th>2</th>\n",
       "    </tr>\n",
       "  </thead>\n",
       "  <tbody>\n",
       "    <tr>\n",
       "      <th>0</th>\n",
       "      <td>['Senior'</td>\n",
       "      <td>'Solo Entrepreneur'</td>\n",
       "      <td>'2-5 Year Client']</td>\n",
       "    </tr>\n",
       "    <tr>\n",
       "      <th>1</th>\n",
       "      <td>['Middle Age'</td>\n",
       "      <td>'Corporation'</td>\n",
       "      <td>'2-5 Year Client']</td>\n",
       "    </tr>\n",
       "    <tr>\n",
       "      <th>2</th>\n",
       "      <td>['Adult'</td>\n",
       "      <td>'Small Business'</td>\n",
       "      <td>'New Client']</td>\n",
       "    </tr>\n",
       "    <tr>\n",
       "      <th>3</th>\n",
       "      <td>['Young Adult'</td>\n",
       "      <td>'Small Business'</td>\n",
       "      <td>'Loyal Client']</td>\n",
       "    </tr>\n",
       "    <tr>\n",
       "      <th>4</th>\n",
       "      <td>['Middle Age'</td>\n",
       "      <td>'Solo Entrepreneur'</td>\n",
       "      <td>'2-5 Year Client']</td>\n",
       "    </tr>\n",
       "  </tbody>\n",
       "</table>\n",
       "</div>"
      ],
      "text/plain": [
       "                0                     1                    2\n",
       "0       ['Senior'   'Solo Entrepreneur'   '2-5 Year Client']\n",
       "1   ['Middle Age'         'Corporation'   '2-5 Year Client']\n",
       "2        ['Adult'      'Small Business'        'New Client']\n",
       "3  ['Young Adult'      'Small Business'      'Loyal Client']\n",
       "4   ['Middle Age'   'Solo Entrepreneur'   '2-5 Year Client']"
      ]
     },
     "execution_count": 17,
     "metadata": {},
     "output_type": "execute_result"
    }
   ],
   "source": [
    "split_cols.head()"
   ]
  },
  {
   "cell_type": "code",
   "execution_count": 18,
   "metadata": {},
   "outputs": [],
   "source": [
    "df['ClientAge'] = split_cols[0]\n",
    "df['ClientType'] = split_cols[1]\n",
    "df['LengthOfContract'] = split_cols[2]\n",
    "\n",
    "df['ClientAge'] = df['ClientAge'].str.replace('[', '')\n",
    "df['LengthOfContract'] = df['LengthOfContract'].str.replace(']', '')"
   ]
  },
  {
   "cell_type": "code",
   "execution_count": 19,
   "metadata": {},
   "outputs": [
    {
     "data": {
      "text/html": [
       "<div>\n",
       "<style scoped>\n",
       "    .dataframe tbody tr th:only-of-type {\n",
       "        vertical-align: middle;\n",
       "    }\n",
       "\n",
       "    .dataframe tbody tr th {\n",
       "        vertical-align: top;\n",
       "    }\n",
       "\n",
       "    .dataframe thead th {\n",
       "        text-align: right;\n",
       "    }\n",
       "</style>\n",
       "<table border=\"1\" class=\"dataframe\">\n",
       "  <thead>\n",
       "    <tr style=\"text-align: right;\">\n",
       "      <th></th>\n",
       "      <th>ClientAge</th>\n",
       "      <th>ClientType</th>\n",
       "      <th>LengthOfContract</th>\n",
       "    </tr>\n",
       "  </thead>\n",
       "  <tbody>\n",
       "    <tr>\n",
       "      <th>0</th>\n",
       "      <td>'Senior'</td>\n",
       "      <td>'Solo Entrepreneur'</td>\n",
       "      <td>'2-5 Year Client'</td>\n",
       "    </tr>\n",
       "    <tr>\n",
       "      <th>1</th>\n",
       "      <td>'Middle Age'</td>\n",
       "      <td>'Corporation'</td>\n",
       "      <td>'2-5 Year Client'</td>\n",
       "    </tr>\n",
       "    <tr>\n",
       "      <th>2</th>\n",
       "      <td>'Adult'</td>\n",
       "      <td>'Small Business'</td>\n",
       "      <td>'New Client'</td>\n",
       "    </tr>\n",
       "    <tr>\n",
       "      <th>3</th>\n",
       "      <td>'Young Adult'</td>\n",
       "      <td>'Small Business'</td>\n",
       "      <td>'Loyal Client'</td>\n",
       "    </tr>\n",
       "    <tr>\n",
       "      <th>4</th>\n",
       "      <td>'Middle Age'</td>\n",
       "      <td>'Solo Entrepreneur'</td>\n",
       "      <td>'2-5 Year Client'</td>\n",
       "    </tr>\n",
       "  </tbody>\n",
       "</table>\n",
       "</div>"
      ],
      "text/plain": [
       "       ClientAge            ClientType    LengthOfContract\n",
       "0       'Senior'   'Solo Entrepreneur'   '2-5 Year Client'\n",
       "1   'Middle Age'         'Corporation'   '2-5 Year Client'\n",
       "2        'Adult'      'Small Business'        'New Client'\n",
       "3  'Young Adult'      'Small Business'      'Loyal Client'\n",
       "4   'Middle Age'   'Solo Entrepreneur'   '2-5 Year Client'"
      ]
     },
     "execution_count": 19,
     "metadata": {},
     "output_type": "execute_result"
    }
   ],
   "source": [
    "client_cols_new = ['ClientAge' ,'ClientType' ,'LengthOfContract']\n",
    "df[client_cols_new].head()"
   ]
  },
  {
   "attachments": {},
   "cell_type": "markdown",
   "metadata": {},
   "source": [
    "Change Item Description to Lowercase"
   ]
  },
  {
   "cell_type": "code",
   "execution_count": 20,
   "metadata": {},
   "outputs": [],
   "source": [
    "df['ItemDescription'] = df['ItemDescription'].str.lower()"
   ]
  },
  {
   "attachments": {},
   "cell_type": "markdown",
   "metadata": {},
   "source": [
    "Drop Columns"
   ]
  },
  {
   "cell_type": "code",
   "execution_count": 21,
   "metadata": {},
   "outputs": [],
   "source": [
    "cols_to_drop = [\"ClientKeywords\" ,\"Day\" ,\"Month\", \"Year\"]\n",
    "df = df.drop(cols_to_drop, axis=1)"
   ]
  },
  {
   "attachments": {},
   "cell_type": "markdown",
   "metadata": {},
   "source": [
    "## Export Data"
   ]
  },
  {
   "cell_type": "code",
   "execution_count": 22,
   "metadata": {},
   "outputs": [],
   "source": [
    "df.to_csv('data/value_inc_cleaned.csv', index=False)"
   ]
  },
  {
   "cell_type": "code",
   "execution_count": null,
   "metadata": {},
   "outputs": [],
   "source": []
  }
 ],
 "metadata": {
  "kernelspec": {
   "display_name": "Python 3",
   "language": "python",
   "name": "python3"
  },
  "language_info": {
   "codemirror_mode": {
    "name": "ipython",
    "version": 3
   },
   "file_extension": ".py",
   "mimetype": "text/x-python",
   "name": "python",
   "nbconvert_exporter": "python",
   "pygments_lexer": "ipython3",
   "version": "3.7.0"
  },
  "orig_nbformat": 4
 },
 "nbformat": 4,
 "nbformat_minor": 2
}
