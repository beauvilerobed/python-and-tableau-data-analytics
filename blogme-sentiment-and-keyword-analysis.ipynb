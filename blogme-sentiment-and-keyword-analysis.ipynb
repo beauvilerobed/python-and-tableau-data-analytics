{
 "cells": [
  {
   "attachments": {},
   "cell_type": "markdown",
   "metadata": {},
   "source": [
    "# BlogMe Sentiment and Keyword Analysis\n",
    "\n",
    "BlogMe, a famous blogging business has a dataset of news articles that they need further analysis on.\n",
    "Firstly, they’d like keywords to be extracted from headlines of the article. Secondly, they would need to determine the sentiment of the news articles. The data is in an excel sheet and they would like to see a dashboard outlying sentiment, top articles etc.\n",
    "\n",
    "Date File: (articles.xlsx) – 4.7 MB file\n",
    "https://finch-groundhog-9245.squarespace.com/s/articles.xlsx\n",
    "\n",
    "BlogMe_sources.xlsx\n",
    "https://finch-groundhog-9245.squarespace.com/s/BlogMe_sources.xlsx\n",
    "\n",
    "Logo: (BlogMe Logo.png)\n",
    "https://finch-groundhog-9245.squarespace.com/s/BlogMe-Logo.png\n",
    "\n",
    "Tableau Joins:\n",
    "https://finch-groundhog-9245.squarespace.com/s/TableauJoins-xc7w.pdf"
   ]
  },
  {
   "cell_type": "code",
   "execution_count": 18,
   "metadata": {},
   "outputs": [],
   "source": [
    "import pandas as pd\n",
    "import numpy as np\n",
    "\n",
    "# VADER (Valence Aware Dictionary and sEntiment Reasoner) is a lexicon and \n",
    "# rule-based sentiment analysis tool that is specifically attuned to sentiments \n",
    "# expressed in social media, and works well on texts from other domains.\n",
    "from vaderSentiment.vaderSentiment import SentimentIntensityAnalyzer"
   ]
  },
  {
   "cell_type": "code",
   "execution_count": 19,
   "metadata": {},
   "outputs": [],
   "source": [
    "data = pd.read_excel(\"data/articles.xlsx\")"
   ]
  },
  {
   "cell_type": "code",
   "execution_count": 20,
   "metadata": {},
   "outputs": [
    {
     "data": {
      "text/html": [
       "<div>\n",
       "<style scoped>\n",
       "    .dataframe tbody tr th:only-of-type {\n",
       "        vertical-align: middle;\n",
       "    }\n",
       "\n",
       "    .dataframe tbody tr th {\n",
       "        vertical-align: top;\n",
       "    }\n",
       "\n",
       "    .dataframe thead th {\n",
       "        text-align: right;\n",
       "    }\n",
       "</style>\n",
       "<table border=\"1\" class=\"dataframe\">\n",
       "  <thead>\n",
       "    <tr style=\"text-align: right;\">\n",
       "      <th></th>\n",
       "      <th>article_id</th>\n",
       "      <th>top_article</th>\n",
       "      <th>engagement_reaction_count</th>\n",
       "      <th>engagement_comment_count</th>\n",
       "      <th>engagement_share_count</th>\n",
       "      <th>engagement_comment_plugin_count</th>\n",
       "    </tr>\n",
       "  </thead>\n",
       "  <tbody>\n",
       "    <tr>\n",
       "      <th>count</th>\n",
       "      <td>10437.000000</td>\n",
       "      <td>10435.000000</td>\n",
       "      <td>10319.000000</td>\n",
       "      <td>10319.000000</td>\n",
       "      <td>10319.000000</td>\n",
       "      <td>10319.000000</td>\n",
       "    </tr>\n",
       "    <tr>\n",
       "      <th>mean</th>\n",
       "      <td>5218.000000</td>\n",
       "      <td>0.122089</td>\n",
       "      <td>381.395290</td>\n",
       "      <td>124.032949</td>\n",
       "      <td>196.236263</td>\n",
       "      <td>0.011629</td>\n",
       "    </tr>\n",
       "    <tr>\n",
       "      <th>std</th>\n",
       "      <td>3013.046714</td>\n",
       "      <td>0.327404</td>\n",
       "      <td>4433.344792</td>\n",
       "      <td>965.351188</td>\n",
       "      <td>1020.680229</td>\n",
       "      <td>0.268276</td>\n",
       "    </tr>\n",
       "    <tr>\n",
       "      <th>min</th>\n",
       "      <td>0.000000</td>\n",
       "      <td>0.000000</td>\n",
       "      <td>0.000000</td>\n",
       "      <td>0.000000</td>\n",
       "      <td>0.000000</td>\n",
       "      <td>0.000000</td>\n",
       "    </tr>\n",
       "    <tr>\n",
       "      <th>25%</th>\n",
       "      <td>2609.000000</td>\n",
       "      <td>0.000000</td>\n",
       "      <td>0.000000</td>\n",
       "      <td>0.000000</td>\n",
       "      <td>1.000000</td>\n",
       "      <td>0.000000</td>\n",
       "    </tr>\n",
       "    <tr>\n",
       "      <th>50%</th>\n",
       "      <td>5218.000000</td>\n",
       "      <td>0.000000</td>\n",
       "      <td>1.000000</td>\n",
       "      <td>0.000000</td>\n",
       "      <td>8.000000</td>\n",
       "      <td>0.000000</td>\n",
       "    </tr>\n",
       "    <tr>\n",
       "      <th>75%</th>\n",
       "      <td>7827.000000</td>\n",
       "      <td>0.000000</td>\n",
       "      <td>43.000000</td>\n",
       "      <td>12.000000</td>\n",
       "      <td>47.500000</td>\n",
       "      <td>0.000000</td>\n",
       "    </tr>\n",
       "    <tr>\n",
       "      <th>max</th>\n",
       "      <td>10436.000000</td>\n",
       "      <td>1.000000</td>\n",
       "      <td>354132.000000</td>\n",
       "      <td>48490.000000</td>\n",
       "      <td>39422.000000</td>\n",
       "      <td>15.000000</td>\n",
       "    </tr>\n",
       "  </tbody>\n",
       "</table>\n",
       "</div>"
      ],
      "text/plain": [
       "         article_id   top_article  engagement_reaction_count  \\\n",
       "count  10437.000000  10435.000000               10319.000000   \n",
       "mean    5218.000000      0.122089                 381.395290   \n",
       "std     3013.046714      0.327404                4433.344792   \n",
       "min        0.000000      0.000000                   0.000000   \n",
       "25%     2609.000000      0.000000                   0.000000   \n",
       "50%     5218.000000      0.000000                   1.000000   \n",
       "75%     7827.000000      0.000000                  43.000000   \n",
       "max    10436.000000      1.000000              354132.000000   \n",
       "\n",
       "       engagement_comment_count  engagement_share_count  \\\n",
       "count              10319.000000            10319.000000   \n",
       "mean                 124.032949              196.236263   \n",
       "std                  965.351188             1020.680229   \n",
       "min                    0.000000                0.000000   \n",
       "25%                    0.000000                1.000000   \n",
       "50%                    0.000000                8.000000   \n",
       "75%                   12.000000               47.500000   \n",
       "max                48490.000000            39422.000000   \n",
       "\n",
       "       engagement_comment_plugin_count  \n",
       "count                     10319.000000  \n",
       "mean                          0.011629  \n",
       "std                           0.268276  \n",
       "min                           0.000000  \n",
       "25%                           0.000000  \n",
       "50%                           0.000000  \n",
       "75%                           0.000000  \n",
       "max                          15.000000  "
      ]
     },
     "execution_count": 20,
     "metadata": {},
     "output_type": "execute_result"
    }
   ],
   "source": [
    "data.describe()"
   ]
  },
  {
   "cell_type": "code",
   "execution_count": 21,
   "metadata": {},
   "outputs": [
    {
     "name": "stdout",
     "output_type": "stream",
     "text": [
      "<class 'pandas.core.frame.DataFrame'>\n",
      "RangeIndex: 10437 entries, 0 to 10436\n",
      "Data columns (total 15 columns):\n",
      " #   Column                           Non-Null Count  Dtype  \n",
      "---  ------                           --------------  -----  \n",
      " 0   article_id                       10437 non-null  int64  \n",
      " 1   source_id                        10437 non-null  object \n",
      " 2   source_name                      10437 non-null  object \n",
      " 3   author                           9417 non-null   object \n",
      " 4   title                            10435 non-null  object \n",
      " 5   description                      10413 non-null  object \n",
      " 6   url                              10436 non-null  object \n",
      " 7   url_to_image                     9781 non-null   object \n",
      " 8   published_at                     10436 non-null  object \n",
      " 9   content                          9145 non-null   object \n",
      " 10  top_article                      10435 non-null  float64\n",
      " 11  engagement_reaction_count        10319 non-null  float64\n",
      " 12  engagement_comment_count         10319 non-null  float64\n",
      " 13  engagement_share_count           10319 non-null  float64\n",
      " 14  engagement_comment_plugin_count  10319 non-null  float64\n",
      "dtypes: float64(5), int64(1), object(9)\n",
      "memory usage: 1.2+ MB\n"
     ]
    }
   ],
   "source": [
    "data.info()"
   ]
  },
  {
   "attachments": {},
   "cell_type": "markdown",
   "metadata": {},
   "source": [
    "Counting the number of article per source and reaction per publisher"
   ]
  },
  {
   "cell_type": "code",
   "execution_count": 22,
   "metadata": {},
   "outputs": [
    {
     "data": {
      "text/plain": [
       "source_id\n",
       "1                             1\n",
       "abc-news                   1139\n",
       "al-jazeera-english          499\n",
       "bbc-news                   1242\n",
       "business-insider           1048\n",
       "cbs-news                    952\n",
       "cnn                        1132\n",
       "espn                         82\n",
       "newsweek                    539\n",
       "reuters                    1252\n",
       "the-irish-times            1232\n",
       "the-new-york-times          986\n",
       "the-wall-street-journal     333\n",
       "Name: article_id, dtype: int64"
      ]
     },
     "execution_count": 22,
     "metadata": {},
     "output_type": "execute_result"
    }
   ],
   "source": [
    "data.groupby('source_id')['article_id'].count()"
   ]
  },
  {
   "cell_type": "code",
   "execution_count": 23,
   "metadata": {},
   "outputs": [
    {
     "data": {
      "text/plain": [
       "source_id\n",
       "1                                0.0\n",
       "abc-news                    343779.0\n",
       "al-jazeera-english          140410.0\n",
       "bbc-news                    545396.0\n",
       "business-insider            216545.0\n",
       "cbs-news                    459741.0\n",
       "cnn                        1218206.0\n",
       "espn                             0.0\n",
       "newsweek                     93167.0\n",
       "reuters                      16963.0\n",
       "the-irish-times              26838.0\n",
       "the-new-york-times          790449.0\n",
       "the-wall-street-journal      84124.0\n",
       "Name: engagement_reaction_count, dtype: float64"
      ]
     },
     "execution_count": 23,
     "metadata": {},
     "output_type": "execute_result"
    }
   ],
   "source": [
    "data.groupby('source_id')['engagement_reaction_count'].sum()"
   ]
  },
  {
   "attachments": {},
   "cell_type": "markdown",
   "metadata": {},
   "source": [
    "Dropping a column"
   ]
  },
  {
   "cell_type": "code",
   "execution_count": 24,
   "metadata": {},
   "outputs": [],
   "source": [
    "data = data.drop('engagement_comment_plugin_count', axis=1)"
   ]
  },
  {
   "attachments": {},
   "cell_type": "markdown",
   "metadata": {},
   "source": [
    "Create a keyword flag"
   ]
  },
  {
   "cell_type": "code",
   "execution_count": 25,
   "metadata": {},
   "outputs": [],
   "source": [
    "data['keyword_flag_murder'] = np.where(data['title'].str.lower().str.contains('murder'), 1, 0)"
   ]
  },
  {
   "cell_type": "code",
   "execution_count": 26,
   "metadata": {},
   "outputs": [
    {
     "data": {
      "text/plain": [
       "array([0, 1])"
      ]
     },
     "execution_count": 26,
     "metadata": {},
     "output_type": "execute_result"
    }
   ],
   "source": [
    "data['keyword_flag_murder'].unique()"
   ]
  },
  {
   "attachments": {},
   "cell_type": "markdown",
   "metadata": {},
   "source": [
    "## Extract Sentiment from Data Title"
   ]
  },
  {
   "cell_type": "code",
   "execution_count": 27,
   "metadata": {},
   "outputs": [],
   "source": [
    "data['title'] = data['title'].astype(str)"
   ]
  },
  {
   "cell_type": "code",
   "execution_count": 28,
   "metadata": {},
   "outputs": [],
   "source": [
    "sent_int = SentimentIntensityAnalyzer()\n",
    "pos_sents = []\n",
    "neg_sents = []\n",
    "neu_sents = []\n",
    "\n",
    "n = len(data)\n",
    "\n",
    "for x in range(n):\n",
    "    try:\n",
    "        sent = sent_int.polarity_scores(data['title'][x])\n",
    "        pos = sent['pos']\n",
    "        neg = sent['neg']\n",
    "        neu = sent['neu']\n",
    "    except:\n",
    "        pos = 0\n",
    "        neg = 0\n",
    "        neu = 0\n",
    "    \n",
    "    pos_sents.append(pos)\n",
    "    neg_sents.append(neg)\n",
    "    neu_sents.append(neu)\n",
    "\n",
    "data['title_positive_sent_score'] = pos_sents\n",
    "data['title_negative_sent_score'] = neg_sents\n",
    "data['title_neurtral_sent_score'] = neu_sents\n",
    "\n"
   ]
  },
  {
   "cell_type": "code",
   "execution_count": 29,
   "metadata": {},
   "outputs": [
    {
     "data": {
      "text/html": [
       "<div>\n",
       "<style scoped>\n",
       "    .dataframe tbody tr th:only-of-type {\n",
       "        vertical-align: middle;\n",
       "    }\n",
       "\n",
       "    .dataframe tbody tr th {\n",
       "        vertical-align: top;\n",
       "    }\n",
       "\n",
       "    .dataframe thead th {\n",
       "        text-align: right;\n",
       "    }\n",
       "</style>\n",
       "<table border=\"1\" class=\"dataframe\">\n",
       "  <thead>\n",
       "    <tr style=\"text-align: right;\">\n",
       "      <th></th>\n",
       "      <th>title</th>\n",
       "      <th>title_positive_sent_score</th>\n",
       "      <th>title_negative_sent_score</th>\n",
       "      <th>title_neurtral_sent_score</th>\n",
       "    </tr>\n",
       "  </thead>\n",
       "  <tbody>\n",
       "    <tr>\n",
       "      <th>0</th>\n",
       "      <td>NTSB says Autopilot engaged in 2018 California...</td>\n",
       "      <td>0.218</td>\n",
       "      <td>0.218</td>\n",
       "      <td>0.565</td>\n",
       "    </tr>\n",
       "    <tr>\n",
       "      <th>1</th>\n",
       "      <td>Unemployment falls to post-crash low of 5.2%</td>\n",
       "      <td>0.000</td>\n",
       "      <td>0.500</td>\n",
       "      <td>0.500</td>\n",
       "    </tr>\n",
       "    <tr>\n",
       "      <th>2</th>\n",
       "      <td>Louise Kennedy AW2019: Long coats, sparkling t...</td>\n",
       "      <td>0.180</td>\n",
       "      <td>0.000</td>\n",
       "      <td>0.820</td>\n",
       "    </tr>\n",
       "    <tr>\n",
       "      <th>3</th>\n",
       "      <td>North Korean footballer Han joins Italian gian...</td>\n",
       "      <td>0.000</td>\n",
       "      <td>0.000</td>\n",
       "      <td>1.000</td>\n",
       "    </tr>\n",
       "    <tr>\n",
       "      <th>4</th>\n",
       "      <td>UK government lawyer says proroguing parliamen...</td>\n",
       "      <td>0.000</td>\n",
       "      <td>0.146</td>\n",
       "      <td>0.854</td>\n",
       "    </tr>\n",
       "  </tbody>\n",
       "</table>\n",
       "</div>"
      ],
      "text/plain": [
       "                                               title  \\\n",
       "0  NTSB says Autopilot engaged in 2018 California...   \n",
       "1       Unemployment falls to post-crash low of 5.2%   \n",
       "2  Louise Kennedy AW2019: Long coats, sparkling t...   \n",
       "3  North Korean footballer Han joins Italian gian...   \n",
       "4  UK government lawyer says proroguing parliamen...   \n",
       "\n",
       "   title_positive_sent_score  title_negative_sent_score  \\\n",
       "0                      0.218                      0.218   \n",
       "1                      0.000                      0.500   \n",
       "2                      0.180                      0.000   \n",
       "3                      0.000                      0.000   \n",
       "4                      0.000                      0.146   \n",
       "\n",
       "   title_neurtral_sent_score  \n",
       "0                      0.565  \n",
       "1                      0.500  \n",
       "2                      0.820  \n",
       "3                      1.000  \n",
       "4                      0.854  "
      ]
     },
     "execution_count": 29,
     "metadata": {},
     "output_type": "execute_result"
    }
   ],
   "source": [
    "data[['title','title_positive_sent_score' ,'title_negative_sent_score' ,'title_neurtral_sent_score']].head()"
   ]
  },
  {
   "attachments": {},
   "cell_type": "markdown",
   "metadata": {},
   "source": [
    "Export cleaned data"
   ]
  },
  {
   "cell_type": "code",
   "execution_count": 31,
   "metadata": {},
   "outputs": [],
   "source": [
    "data.to_excel(\"data/blogme_cleaned.xlsx\", sheet_name='blogmedata', index=False)"
   ]
  },
  {
   "cell_type": "code",
   "execution_count": null,
   "metadata": {},
   "outputs": [],
   "source": []
  }
 ],
 "metadata": {
  "kernelspec": {
   "display_name": "Python 3",
   "language": "python",
   "name": "python3"
  },
  "language_info": {
   "codemirror_mode": {
    "name": "ipython",
    "version": 3
   },
   "file_extension": ".py",
   "mimetype": "text/x-python",
   "name": "python",
   "nbconvert_exporter": "python",
   "pygments_lexer": "ipython3",
   "version": "3.7.0"
  },
  "orig_nbformat": 4
 },
 "nbformat": 4,
 "nbformat_minor": 2
}
